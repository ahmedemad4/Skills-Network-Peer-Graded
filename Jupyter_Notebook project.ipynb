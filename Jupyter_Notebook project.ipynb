{
 "cells": [
  {
   "cell_type": "markdown",
   "metadata": {},
   "source": [
    "<center>\n",
    "    <img src=\"https://cf-courses-data.s3.us.cloud-object-storage.appdomain.cloud/IBMDeveloperSkillsNetwork-DS0105EN-SkillsNetwork/labs/Module2/images/SN_web_lightmode.png\" width=\"300\" alt=\"cognitiveclass.ai logo\"  />\n",
    "</center>\n"
   ]
  },
  {
   "cell_type": "markdown",
   "metadata": {
    "tags": []
   },
   "source": [
    "#### Add your code below following the instructions given in the course\n"
   ]
  },
  {
   "cell_type": "markdown",
   "metadata": {},
   "source": [
    "# My Jupyter Notebook on IBM Watson Studio"
   ]
  },
  {
   "cell_type": "markdown",
   "metadata": {},
   "source": [
    "**Ahmed Emad Mohamed Ibrahim**\n",
    "\n",
    "__Corporate Trainer - To be a Data Scientist__"
   ]
  },
  {
   "cell_type": "markdown",
   "metadata": {},
   "source": [
    "_I want to be a data scientists so I cope with the current trending change in global technology and to start my own business that serve tech sector_"
   ]
  },
  {
   "cell_type": "markdown",
   "metadata": {},
   "source": [
    "### shown below the total invoice of client sale after 17.5% discount"
   ]
  },
  {
   "cell_type": "code",
   "execution_count": 3,
   "metadata": {},
   "outputs": [
    {
     "name": "stdout",
     "output_type": "stream",
     "text": [
      "127700.925\n"
     ]
    }
   ],
   "source": [
    "print(154789-(154789*0.175))"
   ]
  },
  {
   "cell_type": "markdown",
   "metadata": {},
   "source": [
    "| Client | Sale | Discount |\n",
    "| ------ | ---- | -------- |\n",
    "| Amr | 200000 | 20000 |\n",
    "| Essam | 78454 | 12479 |\n",
    "| Hisham | 3245 | 647 |\n",
    "\n",
    "Keep Working not until you are tired, until you are done\n",
    "\n",
    "---\n",
    "Enjoy the journy \n",
    "***\n",
    "[my github profile. Follow](https://github.com/ahmedemad4)\n",
    "____\n"
   ]
  },
  {
   "cell_type": "code",
   "execution_count": null,
   "metadata": {},
   "outputs": [],
   "source": []
  }
 ],
 "metadata": {
  "kernelspec": {
   "display_name": "Python",
   "language": "python",
   "name": "conda-env-python-py"
  },
  "language_info": {
   "codemirror_mode": {
    "name": "ipython",
    "version": 3
   },
   "file_extension": ".py",
   "mimetype": "text/x-python",
   "name": "python",
   "nbconvert_exporter": "python",
   "pygments_lexer": "ipython3",
   "version": "3.7.12"
  }
 },
 "nbformat": 4,
 "nbformat_minor": 4
}
